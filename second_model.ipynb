{
 "cells": [
  {
   "cell_type": "markdown",
   "metadata": {
    "deletable": true,
    "editable": true
   },
   "source": [
    "# Domain Specific Sentiment Analysis\n",
    "\n",
    "In the first model, we saw that the sentiment analyzer we got from google didn't work well on our data. We'll now build a second model to see if a sentiment classifier trained on the full text of the reviews can better predict the final ratings."
   ]
  },
  {
   "cell_type": "code",
   "execution_count": 1,
   "metadata": {
    "collapsed": true,
    "deletable": true,
    "editable": true
   },
   "outputs": [],
   "source": [
    "# Imports and notebook settings\n",
    "\n",
    "# General\n",
    "import numpy as np\n",
    "import pandas as pd\n",
    "import matplotlib.pyplot as plt\n",
    "import seaborn as sns\n",
    "\n",
    "# Dealing with text data\n",
    "from sklearn.feature_extraction.text import CountVectorizer\n",
    "\n",
    "# General ML Stuff\n",
    "from sklearn.model_selection import train_test_split\n",
    "from sklearn.metrics import accuracy_score\n",
    "\n",
    "# Models\n",
    "from sklearn.linear_model import LogisticRegression\n",
    "from sklearn.naive_bayes import MultinomialNB\n",
    "from sklearn.svm import SVC\n",
    "from sklearn.ensemble import RandomForestClassifier\n",
    "\n",
    "# Plotting options\n",
    "%matplotlib inline\n",
    "plt.rcParams['figure.figsize'] = [8, 8]"
   ]
  },
  {
   "cell_type": "markdown",
   "metadata": {
    "deletable": true,
    "editable": true
   },
   "source": [
    "First, we get the data:"
   ]
  },
  {
   "cell_type": "code",
   "execution_count": 2,
   "metadata": {
    "collapsed": false,
    "deletable": true,
    "editable": true
   },
   "outputs": [
    {
     "data": {
      "text/html": [
       "<div>\n",
       "<table border=\"1\" class=\"dataframe\">\n",
       "  <thead>\n",
       "    <tr style=\"text-align: right;\">\n",
       "      <th></th>\n",
       "      <th>id</th>\n",
       "      <th>price</th>\n",
       "      <th>rating</th>\n",
       "      <th>rec_dishes</th>\n",
       "      <th>review_text</th>\n",
       "      <th>review_url</th>\n",
       "    </tr>\n",
       "  </thead>\n",
       "  <tbody>\n",
       "    <tr>\n",
       "      <th>0</th>\n",
       "      <td>2</td>\n",
       "      <td>4</td>\n",
       "      <td>1</td>\n",
       "      <td>8</td>\n",
       "      <td>My dinner date had eaten in this room before....</td>\n",
       "      <td>https://www.nytimes.com/2014/04/02/dining/rest...</td>\n",
       "    </tr>\n",
       "    <tr>\n",
       "      <th>1</th>\n",
       "      <td>3</td>\n",
       "      <td>4</td>\n",
       "      <td>2</td>\n",
       "      <td>11</td>\n",
       "      <td>You can put up with mediocre food in a restau...</td>\n",
       "      <td>https://www.nytimes.com/2013/11/20/dining/revi...</td>\n",
       "    </tr>\n",
       "    <tr>\n",
       "      <th>2</th>\n",
       "      <td>4</td>\n",
       "      <td>3</td>\n",
       "      <td>3</td>\n",
       "      <td>7</td>\n",
       "      <td>A few minutes into my first dinner at Bâtard ...</td>\n",
       "      <td>https://www.nytimes.com/2014/08/27/dining/rest...</td>\n",
       "    </tr>\n",
       "    <tr>\n",
       "      <th>3</th>\n",
       "      <td>5</td>\n",
       "      <td>4</td>\n",
       "      <td>1</td>\n",
       "      <td>6</td>\n",
       "      <td>After a long and grueling winter, nothing lif...</td>\n",
       "      <td>https://www.nytimes.com/2015/04/08/dining/rest...</td>\n",
       "    </tr>\n",
       "    <tr>\n",
       "      <th>4</th>\n",
       "      <td>6</td>\n",
       "      <td>4</td>\n",
       "      <td>Satisfactory</td>\n",
       "      <td>4</td>\n",
       "      <td>By the early 1980s, New Yorkers knew that som...</td>\n",
       "      <td>https://www.nytimes.com/2015/11/11/dining/jams...</td>\n",
       "    </tr>\n",
       "  </tbody>\n",
       "</table>\n",
       "</div>"
      ],
      "text/plain": [
       "   id  price        rating  rec_dishes  \\\n",
       "0   2      4             1           8   \n",
       "1   3      4             2          11   \n",
       "2   4      3             3           7   \n",
       "3   5      4             1           6   \n",
       "4   6      4  Satisfactory           4   \n",
       "\n",
       "                                         review_text  \\\n",
       "0   My dinner date had eaten in this room before....   \n",
       "1   You can put up with mediocre food in a restau...   \n",
       "2   A few minutes into my first dinner at Bâtard ...   \n",
       "3   After a long and grueling winter, nothing lif...   \n",
       "4   By the early 1980s, New Yorkers knew that som...   \n",
       "\n",
       "                                          review_url  \n",
       "0  https://www.nytimes.com/2014/04/02/dining/rest...  \n",
       "1  https://www.nytimes.com/2013/11/20/dining/revi...  \n",
       "2  https://www.nytimes.com/2014/08/27/dining/rest...  \n",
       "3  https://www.nytimes.com/2015/04/08/dining/rest...  \n",
       "4  https://www.nytimes.com/2015/11/11/dining/jams...  "
      ]
     },
     "execution_count": 2,
     "metadata": {},
     "output_type": "execute_result"
    }
   ],
   "source": [
    "with open('./data/cleaned_reviews.json', 'r') as infile:\n",
    "    data = pd.read_json(infile, orient = 'records')\n",
    "data.head()"
   ]
  },
  {
   "cell_type": "code",
   "execution_count": 3,
   "metadata": {
    "collapsed": false,
    "deletable": true,
    "editable": true
   },
   "outputs": [
    {
     "data": {
      "text/plain": [
       "0     My dinner date had eaten in this room before....\n",
       "1     You can put up with mediocre food in a restau...\n",
       "2     A few minutes into my first dinner at Bâtard ...\n",
       "3     After a long and grueling winter, nothing lif...\n",
       "4     By the early 1980s, New Yorkers knew that som...\n",
       "Name: review_text, dtype: object"
      ]
     },
     "execution_count": 3,
     "metadata": {},
     "output_type": "execute_result"
    }
   ],
   "source": [
    "reviews = data['review_text']\n",
    "reviews.head()"
   ]
  },
  {
   "cell_type": "markdown",
   "metadata": {
    "deletable": true,
    "editable": true
   },
   "source": [
    "We'll use a bag-of-words classifier to try to analyze this data. This essentially amounts to making a list of every word that appears in the reviews, and then creating a new set of features measuring how many times each word appears in a review.  These frequency counts will then be the main features in our model. The `CountVectorizer` class in sklearn performs this process."
   ]
  },
  {
   "cell_type": "code",
   "execution_count": 4,
   "metadata": {
    "collapsed": false,
    "deletable": true,
    "editable": true
   },
   "outputs": [],
   "source": [
    "counter1 = CountVectorizer(ngram_range = (1,3), token_pattern = \"[a-z][a-z]+\")\n",
    "counter2 = CountVectorizer(ngram_range = (1,3))\n",
    "vectorizers = [counter1, counter2]"
   ]
  },
  {
   "cell_type": "code",
   "execution_count": 5,
   "metadata": {
    "collapsed": false,
    "deletable": true,
    "editable": true
   },
   "outputs": [],
   "source": [
    "class DumbGuess:\n",
    "    def __init__(self, **kwargs):\n",
    "        pass\n",
    "    def predict(self, X):\n",
    "        return(['2']*len(X))\n",
    "    def fit(self, a, b):\n",
    "        return(self)\n",
    "models = [DumbGuess, LogisticRegression, MultinomialNB, SVC, RandomForestClassifier]"
   ]
  },
  {
   "cell_type": "code",
   "execution_count": 6,
   "metadata": {
    "collapsed": false,
    "deletable": true,
    "editable": true
   },
   "outputs": [
    {
     "name": "stdout",
     "output_type": "stream",
     "text": [
      "For model DumbGuess with wordlist 1\n",
      "-----------------------------------\n",
      "Training Accuracy: 0.519126\n",
      "Testing Accuracy: 0.467742\n",
      "\n",
      "For model LogisticRegression with wordlist 1\n",
      "--------------------------------------------\n",
      "Training Accuracy: 1.000000\n",
      "Testing Accuracy: 0.467742\n",
      "\n",
      "For model MultinomialNB with wordlist 1\n",
      "---------------------------------------\n",
      "Training Accuracy: 0.972678\n",
      "Testing Accuracy: 0.483871\n",
      "\n",
      "For model SVC with wordlist 1\n",
      "-----------------------------\n",
      "Training Accuracy: 0.519126\n",
      "Testing Accuracy: 0.467742\n",
      "\n",
      "For model RandomForestClassifier with wordlist 1\n",
      "------------------------------------------------\n",
      "Training Accuracy: 0.978142\n",
      "Testing Accuracy: 0.451613\n",
      "\n",
      "For model DumbGuess with wordlist 2\n",
      "-----------------------------------\n",
      "Training Accuracy: 0.519126\n",
      "Testing Accuracy: 0.467742\n",
      "\n",
      "For model LogisticRegression with wordlist 2\n",
      "--------------------------------------------\n",
      "Training Accuracy: 1.000000\n",
      "Testing Accuracy: 0.467742\n",
      "\n",
      "For model MultinomialNB with wordlist 2\n",
      "---------------------------------------\n",
      "Training Accuracy: 0.972678\n",
      "Testing Accuracy: 0.483871\n",
      "\n",
      "For model SVC with wordlist 2\n",
      "-----------------------------\n",
      "Training Accuracy: 0.519126\n",
      "Testing Accuracy: 0.467742\n",
      "\n",
      "For model RandomForestClassifier with wordlist 2\n",
      "------------------------------------------------\n",
      "Training Accuracy: 0.972678\n",
      "Testing Accuracy: 0.483871\n",
      "\n"
     ]
    }
   ],
   "source": [
    "for (i, vectorizer) in enumerate(vectorizers):\n",
    "    words = vectorizer.fit_transform(reviews.tolist())\n",
    "    X = np.hstack((words.toarray(), data[['price', 'rec_dishes']]))\n",
    "    X_train, X_test, y_train, y_test = train_test_split(X, data.rating, random_state = 0)\n",
    "    for model in models:\n",
    "        trained = model().fit(X_train,y_train)\n",
    "        training_accuracy = accuracy_score(y_train, trained.predict(X_train))\n",
    "        testing_accuracy = accuracy_score(y_test, trained.predict(X_test))\n",
    "        config = \"For model %s with wordlist %i\" % (model.__name__, i + 1)\n",
    "        print(config)\n",
    "        print(\"-\"*len(config))\n",
    "        print(\"Training Accuracy: %f\" % training_accuracy)\n",
    "        print(\"Testing Accuracy: %f\" % testing_accuracy)\n",
    "        print(\"\")"
   ]
  },
  {
   "cell_type": "code",
   "execution_count": 7,
   "metadata": {
    "collapsed": true,
    "deletable": true,
    "editable": true
   },
   "outputs": [],
   "source": [
    "counter1_50 = CountVectorizer(ngram_range = (1,3), token_pattern = \"[a-z][a-z]+\", max_features = 50)\n",
    "counter2_50 = CountVectorizer(ngram_range = (1,3), max_features = 50)\n",
    "vectorizers2 = [counter1_50, counter2_50]"
   ]
  },
  {
   "cell_type": "code",
   "execution_count": 8,
   "metadata": {
    "collapsed": false,
    "deletable": true,
    "editable": true
   },
   "outputs": [
    {
     "name": "stdout",
     "output_type": "stream",
     "text": [
      "For model DumbGuess with wordlist 1\n",
      "-----------------------------------\n",
      "Training Accuracy: 0.519126\n",
      "Testing Accuracy: 0.467742\n",
      "\n",
      "For model LogisticRegression with wordlist 1\n",
      "--------------------------------------------\n",
      "Training Accuracy: 0.830601\n",
      "Testing Accuracy: 0.419355\n",
      "\n",
      "For model MultinomialNB with wordlist 1\n",
      "---------------------------------------\n",
      "Training Accuracy: 0.655738\n",
      "Testing Accuracy: 0.483871\n",
      "\n",
      "For model SVC with wordlist 1\n",
      "-----------------------------\n",
      "Training Accuracy: 1.000000\n",
      "Testing Accuracy: 0.483871\n",
      "\n",
      "For model RandomForestClassifier with wordlist 1\n",
      "------------------------------------------------\n",
      "Training Accuracy: 0.983607\n",
      "Testing Accuracy: 0.451613\n",
      "\n",
      "For model DumbGuess with wordlist 2\n",
      "-----------------------------------\n",
      "Training Accuracy: 0.519126\n",
      "Testing Accuracy: 0.467742\n",
      "\n",
      "For model LogisticRegression with wordlist 2\n",
      "--------------------------------------------\n",
      "Training Accuracy: 0.836066\n",
      "Testing Accuracy: 0.435484\n",
      "\n",
      "For model MultinomialNB with wordlist 2\n",
      "---------------------------------------\n",
      "Training Accuracy: 0.644809\n",
      "Testing Accuracy: 0.483871\n",
      "\n",
      "For model SVC with wordlist 2\n",
      "-----------------------------\n",
      "Training Accuracy: 1.000000\n",
      "Testing Accuracy: 0.483871\n",
      "\n",
      "For model RandomForestClassifier with wordlist 2\n",
      "------------------------------------------------\n",
      "Training Accuracy: 0.983607\n",
      "Testing Accuracy: 0.435484\n",
      "\n"
     ]
    }
   ],
   "source": [
    "for (i, vectorizer) in enumerate(vectorizers2):\n",
    "    words = vectorizer.fit_transform(reviews.tolist())\n",
    "    X = np.hstack((words.toarray(), data[['price', 'rec_dishes']]))\n",
    "    X_train, X_test, y_train, y_test = train_test_split(X, data.rating, random_state = 0)\n",
    "    for model in models:\n",
    "        trained = model().fit(X_train,y_train)\n",
    "        training_accuracy = accuracy_score(y_train, trained.predict(X_train))\n",
    "        testing_accuracy = accuracy_score(y_test, trained.predict(X_test))\n",
    "        config = \"For model %s with wordlist %i\" % (model.__name__, i + 1)\n",
    "        print(config)\n",
    "        print(\"-\"*len(config))\n",
    "        print(\"Training Accuracy: %f\" % training_accuracy)\n",
    "        print(\"Testing Accuracy: %f\" % testing_accuracy)\n",
    "        print(\"\")"
   ]
  },
  {
   "cell_type": "code",
   "execution_count": null,
   "metadata": {
    "collapsed": true
   },
   "outputs": [],
   "source": []
  }
 ],
 "metadata": {
  "kernelspec": {
   "display_name": "Python 3",
   "language": "python",
   "name": "python3"
  },
  "language_info": {
   "codemirror_mode": {
    "name": "ipython",
    "version": 3
   },
   "file_extension": ".py",
   "mimetype": "text/x-python",
   "name": "python",
   "nbconvert_exporter": "python",
   "pygments_lexer": "ipython3",
   "version": "3.5.2"
  }
 },
 "nbformat": 4,
 "nbformat_minor": 2
}
